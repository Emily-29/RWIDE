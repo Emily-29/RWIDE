{
 "cells": [
  {
   "cell_type": "code",
   "id": "initial_id",
   "metadata": {
    "collapsed": true,
    "ExecuteTime": {
     "end_time": "2024-05-13T03:39:35.755446Z",
     "start_time": "2024-05-13T03:39:35.750447Z"
    }
   },
   "source": "import pickle",
   "outputs": [],
   "execution_count": 2
  },
  {
   "metadata": {
    "ExecuteTime": {
     "end_time": "2024-05-13T03:39:39.500575Z",
     "start_time": "2024-05-13T03:39:39.493569Z"
    }
   },
   "cell_type": "code",
   "source": [
    "def get_pck(image_data, a):\n",
    "    mkpts0 = image_data['mkpts0']\n",
    "    mkpts1 = image_data['mkpts1']\n",
    "    hw = image_data['hw']\n",
    "    distances1 = [abs(mkpts0[i][0] - mkpts1[i][0]) for i in range(len(mkpts0))]\n",
    "    distances2 = [abs(mkpts0[i][1] - mkpts1[i][1]) for i in range(len(mkpts0))]\n",
    "    distances = distances1 + distances2\n",
    "    count = sum(1 for d in distances if d < (a * max(hw)))\n",
    "    return count / (2 * len(mkpts0)), image_data['hazy_image_name']"
   ],
   "id": "7b4ba2296e20de56",
   "outputs": [],
   "execution_count": 4
  },
  {
   "metadata": {
    "ExecuteTime": {
     "end_time": "2024-05-13T03:45:32.482468Z",
     "start_time": "2024-05-13T03:45:32.353361Z"
    }
   },
   "cell_type": "code",
   "source": [
    "pck_path = 'keypoints/O-HAZE.pkl'  # keypoints extracted from LoFTR\n",
    "with open(pck_path, 'rb') as file:\n",
    "    loaded_raw_data = pickle.load(file)\n",
    "\n",
    "a_list = [0.005, 0.01]  # [0.03, 0.05, 0.1]\n",
    "for a in a_list:\n",
    "    pck_list = []\n",
    "    for i in range(len(loaded_raw_data)):\n",
    "        tmp_pck, image_name = get_pck(loaded_raw_data[i], a)\n",
    "        pck_list.append(tmp_pck)\n",
    "\n",
    "    avg_pck = sum(pck_list) / len(pck_list)\n",
    "    print('>> a:', a)\n",
    "    print('>> pck:', avg_pck * 100)\n"
   ],
   "id": "53edc2fe07b9a7cd",
   "outputs": [
    {
     "ename": "FileNotFoundError",
     "evalue": "[Errno 2] No such file or directory: 'keypoints/O-HAZE.pkl'",
     "output_type": "error",
     "traceback": [
      "\u001B[1;31m---------------------------------------------------------------------------\u001B[0m",
      "\u001B[1;31mFileNotFoundError\u001B[0m                         Traceback (most recent call last)",
      "Cell \u001B[1;32mIn[14], line 2\u001B[0m\n\u001B[0;32m      1\u001B[0m pck_path \u001B[38;5;241m=\u001B[39m \u001B[38;5;124m'\u001B[39m\u001B[38;5;124mkeypoints/O-HAZE.pkl\u001B[39m\u001B[38;5;124m'\u001B[39m  \u001B[38;5;66;03m# keypoints extracted from LoFTR\u001B[39;00m\n\u001B[1;32m----> 2\u001B[0m \u001B[38;5;28;01mwith\u001B[39;00m \u001B[38;5;28;43mopen\u001B[39;49m\u001B[43m(\u001B[49m\u001B[43mpck_path\u001B[49m\u001B[43m,\u001B[49m\u001B[43m \u001B[49m\u001B[38;5;124;43m'\u001B[39;49m\u001B[38;5;124;43mrb\u001B[39;49m\u001B[38;5;124;43m'\u001B[39;49m\u001B[43m)\u001B[49m \u001B[38;5;28;01mas\u001B[39;00m file:\n\u001B[0;32m      3\u001B[0m     loaded_raw_data \u001B[38;5;241m=\u001B[39m pickle\u001B[38;5;241m.\u001B[39mload(file)\n\u001B[0;32m      5\u001B[0m a_list \u001B[38;5;241m=\u001B[39m [\u001B[38;5;241m0.005\u001B[39m, \u001B[38;5;241m0.01\u001B[39m]  \u001B[38;5;66;03m# [0.03, 0.05, 0.1]\u001B[39;00m\n",
      "File \u001B[1;32m~\\miniconda3\\envs\\pytorch_cpu\\lib\\site-packages\\IPython\\core\\interactiveshell.py:284\u001B[0m, in \u001B[0;36m_modified_open\u001B[1;34m(file, *args, **kwargs)\u001B[0m\n\u001B[0;32m    277\u001B[0m \u001B[38;5;28;01mif\u001B[39;00m file \u001B[38;5;129;01min\u001B[39;00m {\u001B[38;5;241m0\u001B[39m, \u001B[38;5;241m1\u001B[39m, \u001B[38;5;241m2\u001B[39m}:\n\u001B[0;32m    278\u001B[0m     \u001B[38;5;28;01mraise\u001B[39;00m \u001B[38;5;167;01mValueError\u001B[39;00m(\n\u001B[0;32m    279\u001B[0m         \u001B[38;5;124mf\u001B[39m\u001B[38;5;124m\"\u001B[39m\u001B[38;5;124mIPython won\u001B[39m\u001B[38;5;124m'\u001B[39m\u001B[38;5;124mt let you open fd=\u001B[39m\u001B[38;5;132;01m{\u001B[39;00mfile\u001B[38;5;132;01m}\u001B[39;00m\u001B[38;5;124m by default \u001B[39m\u001B[38;5;124m\"\u001B[39m\n\u001B[0;32m    280\u001B[0m         \u001B[38;5;124m\"\u001B[39m\u001B[38;5;124mas it is likely to crash IPython. If you know what you are doing, \u001B[39m\u001B[38;5;124m\"\u001B[39m\n\u001B[0;32m    281\u001B[0m         \u001B[38;5;124m\"\u001B[39m\u001B[38;5;124myou can use builtins\u001B[39m\u001B[38;5;124m'\u001B[39m\u001B[38;5;124m open.\u001B[39m\u001B[38;5;124m\"\u001B[39m\n\u001B[0;32m    282\u001B[0m     )\n\u001B[1;32m--> 284\u001B[0m \u001B[38;5;28;01mreturn\u001B[39;00m \u001B[43mio_open\u001B[49m\u001B[43m(\u001B[49m\u001B[43mfile\u001B[49m\u001B[43m,\u001B[49m\u001B[43m \u001B[49m\u001B[38;5;241;43m*\u001B[39;49m\u001B[43margs\u001B[49m\u001B[43m,\u001B[49m\u001B[43m \u001B[49m\u001B[38;5;241;43m*\u001B[39;49m\u001B[38;5;241;43m*\u001B[39;49m\u001B[43mkwargs\u001B[49m\u001B[43m)\u001B[49m\n",
      "\u001B[1;31mFileNotFoundError\u001B[0m: [Errno 2] No such file or directory: 'keypoints/O-HAZE.pkl'"
     ]
    }
   ],
   "execution_count": 14
  }
 ],
 "metadata": {
  "kernelspec": {
   "display_name": "Python 3",
   "language": "python",
   "name": "python3"
  },
  "language_info": {
   "codemirror_mode": {
    "name": "ipython",
    "version": 2
   },
   "file_extension": ".py",
   "mimetype": "text/x-python",
   "name": "python",
   "nbconvert_exporter": "python",
   "pygments_lexer": "ipython2",
   "version": "2.7.6"
  }
 },
 "nbformat": 4,
 "nbformat_minor": 5
}
