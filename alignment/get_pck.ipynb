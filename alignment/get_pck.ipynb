{
 "cells": [
  {
   "cell_type": "code",
   "id": "initial_id",
   "metadata": {
    "collapsed": true,
    "ExecuteTime": {
     "end_time": "2024-05-12T11:38:55.849358Z",
     "start_time": "2024-05-12T11:38:55.702822Z"
    }
   },
   "source": [
    "import math\n",
    "import pickle"
   ],
   "outputs": [],
   "execution_count": 1
  },
  {
   "metadata": {
    "ExecuteTime": {
     "end_time": "2024-05-12T11:38:58.640392Z",
     "start_time": "2024-05-12T11:38:58.631989Z"
    }
   },
   "cell_type": "code",
   "source": [
    "def distance(xy1, xy2):\n",
    "    return math.sqrt((xy1[0] - xy2[0]) ** 2 + (xy1[1] - xy2[1]) ** 2)"
   ],
   "id": "700485c7ee7ea7ad",
   "outputs": [],
   "execution_count": 2
  },
  {
   "metadata": {
    "ExecuteTime": {
     "end_time": "2024-05-12T11:53:49.332094Z",
     "start_time": "2024-05-12T11:53:49.319095Z"
    }
   },
   "cell_type": "code",
   "source": [
    "def get_pck(image_data, a):\n",
    "    mkpts0 = image_data['mkpts0']\n",
    "    mkpts1 = image_data['mkpts1']\n",
    "    hw = image_data['hw']\n",
    "    # H, _ = cv2.findHomography(mkpts1, mkpts0, method=cv2.RANSAC, ransacReprojThreshold=8, confidence=0.999, maxIters=10000)\n",
    "    # warped_points = cv2.perspectiveTransform(mkpts1.reshape(1, -1, 2), H).reshape(-1, 2)\n",
    "    # distances = [distance(mkpts0[i], warped_points[i]) for i in range(len(mkpts0))]\n",
    "    distances1 = [abs(mkpts0[i][0] - mkpts1[i][0]) for i in range(len(mkpts0))]\n",
    "    distances2 = [abs(mkpts0[i][1] - mkpts1[i][1]) for i in range(len(mkpts0))]\n",
    "    distances = distances1 + distances2\n",
    "    count = sum(1 for d in distances if d < (a * max(hw)))\n",
    "    return count / (2 * len(mkpts0)), image_data['hazy_image_name']"
   ],
   "id": "7b4ba2296e20de56",
   "outputs": [],
   "execution_count": 11
  },
  {
   "metadata": {
    "ExecuteTime": {
     "end_time": "2024-05-12T12:27:44.387341Z",
     "start_time": "2024-05-12T12:27:33.615664Z"
    }
   },
   "cell_type": "code",
   "source": [
    "pck_path = 'keypoints/O-HAZE.pkl'  # keypoints extracted from LoFTR\n",
    "with open(pck_path, 'rb') as file:\n",
    "    loaded_raw_data = pickle.load(file)\n",
    "\n",
    "a_list = [0.005, 0.01]  # [0.03, 0.05, 0.1]\n",
    "for a in a_list:\n",
    "    pck_list = []\n",
    "    for i in range(len(loaded_raw_data)):\n",
    "        tmp_pck, image_name = get_pck(loaded_raw_data[i], a)\n",
    "        pck_list.append(tmp_pck)\n",
    "\n",
    "    avg_pck = sum(pck_list) / len(pck_list)\n",
    "    print('>> a:', a)\n",
    "    print('>> pck:', avg_pck * 100)\n"
   ],
   "id": "53edc2fe07b9a7cd",
   "outputs": [
    {
     "name": "stdout",
     "output_type": "stream",
     "text": [
      ">> a: 0.005\n",
      ">> pck: 99.97909257052429\n",
      ">> a: 0.01\n",
      ">> pck: 100.0\n"
     ]
    }
   ],
   "execution_count": 36
  }
 ],
 "metadata": {
  "kernelspec": {
   "display_name": "Python 3",
   "language": "python",
   "name": "python3"
  },
  "language_info": {
   "codemirror_mode": {
    "name": "ipython",
    "version": 2
   },
   "file_extension": ".py",
   "mimetype": "text/x-python",
   "name": "python",
   "nbconvert_exporter": "python",
   "pygments_lexer": "ipython2",
   "version": "2.7.6"
  }
 },
 "nbformat": 4,
 "nbformat_minor": 5
}
