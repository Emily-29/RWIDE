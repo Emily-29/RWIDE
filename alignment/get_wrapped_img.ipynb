{
 "cells": [
  {
   "cell_type": "code",
   "execution_count": null,
   "id": "23f2f9b307cfd6ab",
   "metadata": {
    "collapsed": true
   },
   "outputs": [],
   "source": [
    "import os\n",
    "import cv2\n",
    "import pickle\n",
    "import numpy as np"
   ]
  },
  {
   "metadata": {},
   "cell_type": "code",
   "outputs": [],
   "execution_count": null,
   "source": [
    "def wrap_images(img0, img1, geo_info, geom_type):\n",
    "    rectified_image0 = img0\n",
    "    rectified_image1 = None\n",
    "    if geo_info is not None and len(geo_info) != 0:\n",
    "        H = np.array(geo_info[\"Homography\"])\n",
    "        if geom_type == \"Homography\":\n",
    "            rectified_image1 = cv2.warpPerspective(img1, H, (img0.shape[1], img0.shape[0]))\n",
    "        else:\n",
    "            print(\"Error: Unknown geometry type\")\n",
    "    return rectified_image0, rectified_image1"
   ],
   "id": "a733996b609b73fd"
  },
  {
   "metadata": {},
   "cell_type": "code",
   "outputs": [],
   "execution_count": null,
   "source": [
    "def change_estimate_geom(input_image0, input_image1, matches_info, choice):\n",
    "    if (matches_info is None) or (len(matches_info) < 1) or (\"geom_info\" not in matches_info.keys()):\n",
    "        print(f'len(matches_info):{len(matches_info)}<1')\n",
    "        return None, None\n",
    "    geom_info = matches_info[\"geom_info\"]\n",
    "    rectified_image0, rectified_image1 = wrap_images(input_image0, input_image1, geom_info, choice)\n",
    "    return rectified_image0, rectified_image1"
   ],
   "id": "82702cfcdc250b63"
  },
  {
   "metadata": {},
   "cell_type": "code",
   "outputs": [],
   "execution_count": null,
   "source": [
    "def compute_geom(mkpts0, mkpts1):\n",
    "    if mkpts0 is not None and mkpts1 is not None:\n",
    "        if len(mkpts0) < 2 * 4:\n",
    "            return {}\n",
    "        geo_info = {}\n",
    "        H, _ = cv2.findHomography(mkpts1, mkpts0, method=cv2.USAC_MAGSAC, ransacReprojThreshold=8, confidence=0.999, maxIters=10000)\n",
    "        if H is not None:\n",
    "            geo_info[\"Homography\"] = H.tolist()\n",
    "        return geo_info\n",
    "    else:\n",
    "        return {}"
   ],
   "id": "51ccbe5cb00a1c1"
  },
  {
   "metadata": {},
   "cell_type": "code",
   "outputs": [],
   "execution_count": null,
   "source": [
    "def make_matching_figure(img_clear, img_hazy, mkpts_clear, mkpts_clear_hazy, mkpts_syn=None, mkpts_syn_hazy=None):\n",
    "    if mkpts_syn_hazy is not None and mkpts_syn_hazy is not None:\n",
    "        if mkpts_syn.ndim != 1 and mkpts_syn_hazy.ndim != 1 and mkpts_clear.ndim != 1 and mkpts_clear_hazy.ndim != 1:\n",
    "            mkpts_clear = np.concatenate((mkpts_syn, mkpts_clear), axis=0)\n",
    "            mkpts_clear_hazy = np.concatenate((mkpts_syn_hazy, mkpts_clear_hazy), axis=0)\n",
    "\n",
    "    geom_info = compute_geom(mkpts_clear, mkpts_clear_hazy)\n",
    "    choice_estimate_geom = \"Homography\"\n",
    "    if not geom_info:\n",
    "        wrapped_image = img_hazy\n",
    "    else:\n",
    "        _, wrapped_image = change_estimate_geom(img_clear, img_hazy, {\"geom_info\": geom_info}, choice_estimate_geom)\n",
    "    wrapped_image = cv2.cvtColor(wrapped_image, cv2.COLOR_RGB2BGR)\n",
    "    return wrapped_image"
   ],
   "id": "b72022e070e398a5"
  },
  {
   "metadata": {},
   "cell_type": "code",
   "outputs": [],
   "execution_count": null,
   "source": [
    "def main():\n",
    "    hazy_clear_pkl_dir = ''  # (haze-free images and real-haze images) pkl folder\n",
    "    hazy_syn_pkl_dir = ''  # (synthetic-haze images and real-haze images) pkl folder\n",
    "    save_dir = ''\n",
    "    os.makedirs(save_dir, exist_ok=True)\n",
    "\n",
    "    for pkl_file in os.listdir(hazy_clear_pkl_dir):\n",
    "        if pkl_file.endswith(\".pkl\"):\n",
    "            pkl_clear_path = os.path.join(hazy_clear_pkl_dir, pkl_file)\n",
    "            pkl_syn_path = os.path.join(hazy_syn_pkl_dir, pkl_file)\n",
    "            with open(pkl_clear_path, \"rb\") as f:\n",
    "                pred_clear = pickle.load(f)\n",
    "            with open(pkl_syn_path, \"rb\") as f:\n",
    "                pred_syn = pickle.load(f)\n",
    "\n",
    "            img_clear = pred_clear[\"image0_orig\"]\n",
    "            img_hazy = pred_clear[\"image1_orig\"]\n",
    "            mkpts_clear = pred_clear[\"keypoints0_orig\"]\n",
    "            mkpts_clear_hazy = pred_clear[\"keypoints1_orig\"]\n",
    "            mkpts_syn = pred_syn[\"keypoints0_orig\"]\n",
    "            mkpts_syn_hazy = pred_syn[\"keypoints1_orig\"]\n",
    "\n",
    "            hazy_align_image = make_matching_figure(img_clear, img_hazy, mkpts_clear, mkpts_clear_hazy, mkpts_syn, mkpts_syn_hazy)\n",
    "            save_path = os.path.join(save_dir, pkl_file[:-4] + \".jpg\")\n",
    "            cv2.imwrite(save_path, hazy_align_image)"
   ],
   "id": "30297e1389ea9f15"
  },
  {
   "metadata": {},
   "cell_type": "code",
   "outputs": [],
   "execution_count": null,
   "source": "main()",
   "id": "initial_id"
  }
 ],
 "metadata": {
  "kernelspec": {
   "display_name": "Python 3",
   "language": "python",
   "name": "python3"
  },
  "language_info": {
   "codemirror_mode": {
    "name": "ipython",
    "version": 2
   },
   "file_extension": ".py",
   "mimetype": "text/x-python",
   "name": "python",
   "nbconvert_exporter": "python",
   "pygments_lexer": "ipython2",
   "version": "2.7.6"
  }
 },
 "nbformat": 4,
 "nbformat_minor": 5
}
