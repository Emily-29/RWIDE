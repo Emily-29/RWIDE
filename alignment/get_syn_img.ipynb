{
 "cells": [
  {
   "cell_type": "code",
   "execution_count": null,
   "id": "initial_id",
   "metadata": {
    "collapsed": true
   },
   "outputs": [],
   "source": [
    "import cv2\n",
    "import numpy as np"
   ]
  },
  {
   "metadata": {},
   "cell_type": "code",
   "outputs": [],
   "execution_count": null,
   "source": [
    "def get_hazy_img(gt_img_path, depth_img_path, A, beta):\n",
    "    gt_img = cv2.imread(gt_img_path)\n",
    "    depth_img = cv2.imread(depth_img_path)\n",
    "    norm_depth_img = depth_img / 255\n",
    "    trans = np.exp(-norm_depth_img * beta)\n",
    "    hazy_img = gt_img * trans + (A * 255) * (1 - trans)\n",
    "    hazy_img = np.array(hazy_img, dtype=np.uint8)\n",
    "    return hazy_img"
   ],
   "id": "627851f53f47c17b"
  },
  {
   "metadata": {},
   "cell_type": "code",
   "outputs": [],
   "execution_count": null,
   "source": [
    "# A_list = [0.8, 0.85, 0.9, 0.95, 1]\n",
    "# beta_list = [1, 1.5, 2, 2.5, 3]\n",
    "\n",
    "image_path = ''\n",
    "depth_path = ''\n",
    "save_path = ''\n",
    "syn_hazy_img = get_hazy_img(image_path, depth_path, A=0.8, beta=1)\n",
    "cv2.imwrite(save_path, syn_hazy_img)"
   ],
   "id": "82ba2cbf3aabd066"
  }
 ],
 "metadata": {
  "kernelspec": {
   "display_name": "Python 3",
   "language": "python",
   "name": "python3"
  },
  "language_info": {
   "codemirror_mode": {
    "name": "ipython",
    "version": 2
   },
   "file_extension": ".py",
   "mimetype": "text/x-python",
   "name": "python",
   "nbconvert_exporter": "python",
   "pygments_lexer": "ipython2",
   "version": "2.7.6"
  }
 },
 "nbformat": 4,
 "nbformat_minor": 5
}
